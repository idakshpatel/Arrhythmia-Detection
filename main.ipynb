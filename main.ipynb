{
 "cells": [
  {
   "cell_type": "code",
   "execution_count": 8,
   "metadata": {},
   "outputs": [
    {
     "name": "stdout",
     "output_type": "stream",
     "text": [
      "loading Roboflow workspace...\n",
      "loading Roboflow project...\n"
     ]
    }
   ],
   "source": [
    "from roboflow import Roboflow\n",
    "rf = Roboflow(api_key=\"LgWWx0wIKsmwMMhgXefj\")\n",
    "project = rf.workspace(\"sop1\").project(\"sop_arrhythmea_classification\")\n",
    "dataset = project.version(1).download(\"folder\")"
   ]
  },
  {
   "cell_type": "code",
   "execution_count": 9,
   "metadata": {},
   "outputs": [
    {
     "name": "stdout",
     "output_type": "stream",
     "text": [
      "loading Roboflow workspace...\n",
      "loading Roboflow project...\n"
     ]
    }
   ],
   "source": [
    "from roboflow import Roboflow\n",
    "rf = Roboflow(api_key=\"LgWWx0wIKsmwMMhgXefj\")\n",
    "project = rf.workspace().project(\"sop_arrhythmea_classification\")\n",
    "model = project.version(\"1\").model\n",
    "\n",
    "\n"
   ]
  },
  {
   "cell_type": "code",
   "execution_count": 3,
   "metadata": {},
   "outputs": [],
   "source": [
    "output = (model.predict(r\"C:\\Users\\Daksh Patel\\OneDrive\\Desktop\\SOP\\test_data\\Ventricular Fibrillation\\VFEfig_122.png\").json())"
   ]
  },
  {
   "cell_type": "code",
   "execution_count": 6,
   "metadata": {},
   "outputs": [
    {
     "name": "stdout",
     "output_type": "stream",
     "text": [
      "The given image shows ECG of Ventricular Fibrillation,with 95.74000000000001% confidence\n"
     ]
    }
   ],
   "source": [
    "score = []\n",
    "\n",
    "for key,value in output.items():\n",
    "    if key == \"predictions\":\n",
    "        for key,value in value[0].items():\n",
    "            if key == \"predictions\":\n",
    "                for dic in value:\n",
    "                    for key, value in dic.items():\n",
    "                        if key==\"confidence\":\n",
    "                            score.append(value)\n",
    "                            max_score= max(score)\n",
    "                            max_score_index = score.index(max_score)\n",
    "                        \n",
    "disease= []\n",
    "\n",
    "for key,value in output.items():\n",
    "    if key == \"predictions\":\n",
    "        for key,value in value[0].items():\n",
    "            if key == \"predictions\":\n",
    "                for dic in value:\n",
    "                    for key,value in dic.items():\n",
    "                        if key == \"class\":\n",
    "                            disease.append(value)\n",
    "\n",
    "\n",
    "\n",
    "\n",
    "print(f\"The given image shows ECG of {disease[max_score_index]},with {max_score*100}% confidence\")                           "
   ]
  },
  {
   "cell_type": "code",
   "execution_count": 7,
   "metadata": {},
   "outputs": [],
   "source": [
    "import pickle"
   ]
  },
  {
   "cell_type": "code",
   "execution_count": 8,
   "metadata": {},
   "outputs": [],
   "source": [
    "with open('model.pkl', 'wb') as file:\n",
    "    pickle.dump(model, file)"
   ]
  },
  {
   "cell_type": "code",
   "execution_count": 15,
   "metadata": {},
   "outputs": [
    {
     "name": "stdout",
     "output_type": "stream",
     "text": [
      "Ultralytics YOLOv8.1.6 🚀 Python-3.11.7 torch-2.1.2+cpu CPU (Intel Core(TM) i5-9300H 2.40GHz)\n",
      "Setup complete ✅ (8 CPUs, 7.8 GB RAM, 186.5/325.8 GB disk)\n"
     ]
    }
   ],
   "source": [
    "from IPython import display\n",
    "display.clear_output()\n",
    "\n",
    "import ultralytics\n",
    "ultralytics.checks()"
   ]
  },
  {
   "cell_type": "code",
   "execution_count": 16,
   "metadata": {},
   "outputs": [],
   "source": [
    "from ultralytics import YOLO\n",
    "\n",
    "from IPython.display import display, Image"
   ]
  },
  {
   "cell_type": "code",
   "execution_count": 17,
   "metadata": {},
   "outputs": [],
   "source": [
    "import os\n",
    "import cv2\n",
    "import shutil\n",
    "import numpy as np\n",
    "from pathlib import Path\n",
    "import random"
   ]
  },
  {
   "cell_type": "code",
   "execution_count": null,
   "metadata": {},
   "outputs": [],
   "source": []
  },
  {
   "cell_type": "code",
   "execution_count": null,
   "metadata": {},
   "outputs": [],
   "source": []
  },
  {
   "cell_type": "code",
   "execution_count": null,
   "metadata": {},
   "outputs": [],
   "source": []
  },
  {
   "cell_type": "code",
   "execution_count": null,
   "metadata": {},
   "outputs": [],
   "source": []
  },
  {
   "cell_type": "code",
   "execution_count": null,
   "metadata": {},
   "outputs": [],
   "source": []
  },
  {
   "cell_type": "code",
   "execution_count": null,
   "metadata": {},
   "outputs": [],
   "source": []
  },
  {
   "cell_type": "code",
   "execution_count": null,
   "metadata": {},
   "outputs": [],
   "source": []
  },
  {
   "cell_type": "code",
   "execution_count": null,
   "metadata": {},
   "outputs": [],
   "source": []
  },
  {
   "cell_type": "code",
   "execution_count": null,
   "metadata": {},
   "outputs": [],
   "source": []
  },
  {
   "cell_type": "code",
   "execution_count": null,
   "metadata": {},
   "outputs": [],
   "source": []
  }
 ],
 "metadata": {
  "kernelspec": {
   "display_name": "Python 3",
   "language": "python",
   "name": "python3"
  },
  "language_info": {
   "codemirror_mode": {
    "name": "ipython",
    "version": 3
   },
   "file_extension": ".py",
   "mimetype": "text/x-python",
   "name": "python",
   "nbconvert_exporter": "python",
   "pygments_lexer": "ipython3",
   "version": "3.11.7"
  }
 },
 "nbformat": 4,
 "nbformat_minor": 2
}
